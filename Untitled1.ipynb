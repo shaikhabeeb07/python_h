{
 "cells": [
  {
   "cell_type": "markdown",
   "id": "868908f9-1d9b-479e-b51b-265108539e6a",
   "metadata": {},
   "source": [
    "COMMENTS"
   ]
  },
  {
   "cell_type": "code",
   "execution_count": null,
   "id": "e2dc2664-2081-4a12-959c-ecd2b6458b65",
   "metadata": {},
   "outputs": [],
   "source": [
    "#it is used to explain the code"
   ]
  },
  {
   "cell_type": "code",
   "execution_count": 1,
   "id": "a12d88c9-d882-41fa-be87-b90af6ee639c",
   "metadata": {},
   "outputs": [
    {
     "name": "stdout",
     "output_type": "stream",
     "text": [
      "12\n"
     ]
    }
   ],
   "source": [
    "#python program adding of two numbers\n",
    "a=8\n",
    "b=4\n",
    "c=a+b\n",
    "print(c)"
   ]
  },
  {
   "cell_type": "code",
   "execution_count": 3,
   "id": "ffedc3a1-3d68-450d-bcfd-f85bbc9e1bef",
   "metadata": {},
   "outputs": [
    {
     "name": "stdout",
     "output_type": "stream",
     "text": [
      "['False', 'None', 'True', 'and', 'as', 'assert', 'async', 'await', 'break', 'class', 'continue', 'def', 'del', 'elif', 'else', 'except', 'finally', 'for', 'from', 'global', 'if', 'import', 'in', 'is', 'lambda', 'nonlocal', 'not', 'or', 'pass', 'raise', 'return', 'try', 'while', 'with', 'yield']\n"
     ]
    },
    {
     "data": {
      "text/plain": [
       "35"
      ]
     },
     "execution_count": 3,
     "metadata": {},
     "output_type": "execute_result"
    }
   ],
   "source": [
    "import keyword\n",
    "# Get the list of python keywords\n",
    "python_keywords=keyword.kwlist\n",
    "\n",
    "# Display the list of keywords\n",
    "print(python_keywords)\n",
    "\n",
    "len(python_keywords)"
   ]
  },
  {
   "cell_type": "markdown",
   "id": "aa003584-0573-4a58-afd7-beb909dfa65b",
   "metadata": {},
   "source": [
    "1)what is python?\n",
    "A)pyhton is a general-purpose,high-level,interpreted programming language thats used for a variety of tasks,including:\n",
    "  web development:Building websites and server-side web applications\n",
    "  software development:Rapid application development,bug tracking,and testing\n",
    "  data science and machine learning:analyzing data and building machine learning models\n",
    "  system scripting:automating tasks like renamimg files,updating shopping lists,and filling out forms\n",
    "  mathematics:working with numbers and mathematical operations"
   ]
  },
  {
   "cell_type": "code",
   "execution_count": null,
   "id": "c6b6a2bd-e92c-47c4-96ce-ea6c3bb77c7f",
   "metadata": {},
   "outputs": [],
   "source": [
    "2)Python is known for being?\n",
    "A)easy to learn:python is considered beginner-friendly and handles much of the complexity for the user \n",
    "  efficient:python can run on many different platforms and increases development speed\n",
    "  versatile:pyhton can be used to create a variety of different progams\n",
    "  open-sourse:the python community is constantly building new libraries and functionality"
   ]
  },
  {
   "cell_type": "code",
   "execution_count": null,
   "id": "5ff3721a-bd99-4dee-959c-f060f30ea6de",
   "metadata": {},
   "outputs": [],
   "source": [
    "3)Features of python?\n",
    "A)dynamic:python is dynamic and interpreted,meaning there are no type of declaration in the source code\n",
    "  readable:pythons syntax is easy to learn and emphasises readability\n",
    "  modular:python supports modules and packages,which makes it easy to reuse code\n",
    "  named after monty python:the name python is a reference to the british comedy group"
   ]
  },
  {
   "cell_type": "markdown",
   "id": "4f79be49-bda5-4155-936a-fd94bfa010a4",
   "metadata": {},
   "source": [
    "4)what is keywords?\n",
    "A)in pyhthon keywods are reserved words that have specific meanings and are used to define the syntax and structure of the language\n",
    "  purpose:keywords are used to define the syntax of the code and cannot be used as variable names,functions names,or other identifiers\n",
    "  case-sensitive:all python keywords are case-sensitive,except for the words \"true\" or \"false\", and \"none\""
   ]
  },
  {
   "cell_type": "code",
   "execution_count": null,
   "id": "24277c0b-657e-4c0a-a71d-428aacc2a8b6",
   "metadata": {},
   "outputs": [],
   "source": [
    "5)what is comments?\n",
    "A)a comment in python is a line of text that explains the logic behind a piece,of code,but is ignored by the python interpreter when the code is executed.\n",
    "  Comments are used to make code more readable,maintainable,and easier to collaborate on. \n",
    "  using comments in python:\n",
    "  "
   ]
  },
  {
   "cell_type": "code",
   "execution_count": null,
   "id": "3afa5f94-7a24-49b1-beb1-9ae62491ce8d",
   "metadata": {},
   "outputs": [],
   "source": [
    "python variable:storing of element/item/value\n",
    "               *python variables are the reserved memory locations used to store with a pyhthon program\n",
    "               *this means that when you create a variable you reserve some space in the memory\n",
    "               *variables are containers for storing data values\n",
    "rules to create variable:1)variable name can only contain alpha numeric character and underscorres(A-z,0-9,_)\n",
    "                        2)a variable name cannot start with a number or any special characters like $,(,*,% etc\n",
    "                        3)python reserved keywords cannot be used naming the variable\n",
    "                        4)python variable names are case-sensitive which means Name and NAME are two different variables in python\n",
    "                        5)variable name cannot satart with digits\n",
    "valid variables:Sai=10\n",
    "                _sai=20\n",
    "                7habeeb=30\n",
    "                @gmail-34 "
   ]
  },
  {
   "cell_type": "code",
   "execution_count": null,
   "id": "beb740f7-9250-4354-9372-d9a9e20efe6e",
   "metadata": {},
   "outputs": [],
   "source": [
    "hello=78"
   ]
  },
  {
   "cell_type": "code",
   "execution_count": 1,
   "id": "3c5d936b-cde9-4f61-8f43-75307c176adf",
   "metadata": {},
   "outputs": [
    {
     "ename": "SyntaxError",
     "evalue": "starred assignment target must be in a list or tuple (2669029328.py, line 1)",
     "output_type": "error",
     "traceback": [
      "\u001b[1;36m  Cell \u001b[1;32mIn[1], line 1\u001b[1;36m\u001b[0m\n\u001b[1;33m    *tyo=78\u001b[0m\n\u001b[1;37m    ^\u001b[0m\n\u001b[1;31mSyntaxError\u001b[0m\u001b[1;31m:\u001b[0m starred assignment target must be in a list or tuple\n"
     ]
    }
   ],
   "source": [
    "*tyo=78"
   ]
  },
  {
   "cell_type": "code",
   "execution_count": 3,
   "id": "beba2e40-1af2-441f-8fc1-8b9ce1644a8f",
   "metadata": {},
   "outputs": [
    {
     "ename": "SyntaxError",
     "evalue": "invalid syntax (2214995944.py, line 1)",
     "output_type": "error",
     "traceback": [
      "\u001b[1;36m  Cell \u001b[1;32mIn[3], line 1\u001b[1;36m\u001b[0m\n\u001b[1;33m    &for=678\u001b[0m\n\u001b[1;37m    ^\u001b[0m\n\u001b[1;31mSyntaxError\u001b[0m\u001b[1;31m:\u001b[0m invalid syntax\n"
     ]
    }
   ],
   "source": [
    "&for=678"
   ]
  },
  {
   "cell_type": "code",
   "execution_count": 5,
   "id": "644716a1-d980-450b-a019-6d165c3f62dd",
   "metadata": {},
   "outputs": [
    {
     "ename": "SyntaxError",
     "evalue": "invalid syntax (4153219695.py, line 1)",
     "output_type": "error",
     "traceback": [
      "\u001b[1;36m  Cell \u001b[1;32mIn[5], line 1\u001b[1;36m\u001b[0m\n\u001b[1;33m    for=34\u001b[0m\n\u001b[1;37m       ^\u001b[0m\n\u001b[1;31mSyntaxError\u001b[0m\u001b[1;31m:\u001b[0m invalid syntax\n"
     ]
    }
   ],
   "source": [
    "for=34"
   ]
  },
  {
   "cell_type": "code",
   "execution_count": 7,
   "id": "74a51a04-639d-4a8f-9f07-799069c9cf23",
   "metadata": {},
   "outputs": [],
   "source": [
    "For=65"
   ]
  },
  {
   "cell_type": "code",
   "execution_count": 9,
   "id": "6ad1545c-7854-4f04-9ebe-e4eea07a1de9",
   "metadata": {},
   "outputs": [
    {
     "name": "stdout",
     "output_type": "stream",
     "text": [
      "65\n"
     ]
    }
   ],
   "source": [
    "print(For)"
   ]
  },
  {
   "cell_type": "code",
   "execution_count": null,
   "id": "e611481f-971c-46ee-8961-b40cc858b511",
   "metadata": {},
   "outputs": [],
   "source": [
    "types of variables:1)single variable\n",
    "                   2)multi-variable\n",
    "                   a)multi variable,multi values\n",
    "                   b)multiple variable,single values"
   ]
  },
  {
   "cell_type": "code",
   "execution_count": 11,
   "id": "4073c03f-9e52-4ad2-a7a4-49008dcc3454",
   "metadata": {},
   "outputs": [
    {
     "name": "stdout",
     "output_type": "stream",
     "text": [
      "1\n",
      "2\n",
      "3\n"
     ]
    }
   ],
   "source": [
    "a,b,c=1,2,3 #multi variable,multi values\n",
    "print(a)\n",
    "print(b)\n",
    "print(c)"
   ]
  },
  {
   "cell_type": "code",
   "execution_count": 13,
   "id": "a79f66ed-ace2-42ab-aa52-5806b64a0761",
   "metadata": {},
   "outputs": [
    {
     "name": "stdout",
     "output_type": "stream",
     "text": [
      "1\n",
      "1\n",
      "1\n"
     ]
    }
   ],
   "source": [
    "a=b=c=1 #multi variables,single value\n",
    "print(a)\n",
    "print(b)\n",
    "print(c)"
   ]
  },
  {
   "cell_type": "code",
   "execution_count": null,
   "id": "059da9ea-87df-4d75-ae5d-1d2aa40da565",
   "metadata": {},
   "outputs": [],
   "source": []
  }
 ],
 "metadata": {
  "kernelspec": {
   "display_name": "Python 3 (ipykernel)",
   "language": "python",
   "name": "python3"
  },
  "language_info": {
   "codemirror_mode": {
    "name": "ipython",
    "version": 3
   },
   "file_extension": ".py",
   "mimetype": "text/x-python",
   "name": "python",
   "nbconvert_exporter": "python",
   "pygments_lexer": "ipython3",
   "version": "3.12.7"
  }
 },
 "nbformat": 4,
 "nbformat_minor": 5
}
